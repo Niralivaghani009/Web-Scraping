{
 "cells": [
  {
   "cell_type": "code",
   "execution_count": 2,
   "id": "fdbc8677",
   "metadata": {},
   "outputs": [
    {
     "name": "stdout",
     "output_type": "stream",
     "text": [
      "Collecting autoscraper"
     ]
    },
    {
     "name": "stderr",
     "output_type": "stream",
     "text": [
      "WARNING: You are using pip version 22.0.4; however, version 22.1.2 is available.\n",
      "You should consider upgrading via the 'C:\\ProgramData\\Anaconda3\\python.exe -m pip install --upgrade pip' command.\n"
     ]
    },
    {
     "name": "stdout",
     "output_type": "stream",
     "text": [
      "\n",
      "  Downloading autoscraper-1.1.12-py3-none-any.whl (10 kB)\n",
      "Collecting bs4\n",
      "  Downloading bs4-0.0.1.tar.gz (1.1 kB)\n",
      "  Preparing metadata (setup.py): started\n",
      "  Preparing metadata (setup.py): finished with status 'done'\n",
      "Requirement already satisfied: requests in c:\\programdata\\anaconda3\\lib\\site-packages (from autoscraper) (2.26.0)\n",
      "Requirement already satisfied: lxml in c:\\programdata\\anaconda3\\lib\\site-packages (from autoscraper) (4.6.3)\n",
      "Requirement already satisfied: beautifulsoup4 in c:\\programdata\\anaconda3\\lib\\site-packages (from bs4->autoscraper) (4.10.0)\n",
      "Requirement already satisfied: certifi>=2017.4.17 in c:\\programdata\\anaconda3\\lib\\site-packages (from requests->autoscraper) (2021.10.8)\n",
      "Requirement already satisfied: charset-normalizer~=2.0.0 in c:\\programdata\\anaconda3\\lib\\site-packages (from requests->autoscraper) (2.0.4)\n",
      "Requirement already satisfied: urllib3<1.27,>=1.21.1 in c:\\programdata\\anaconda3\\lib\\site-packages (from requests->autoscraper) (1.26.7)\n",
      "Requirement already satisfied: idna<4,>=2.5 in c:\\programdata\\anaconda3\\lib\\site-packages (from requests->autoscraper) (3.2)\n",
      "Requirement already satisfied: soupsieve>1.2 in c:\\programdata\\anaconda3\\lib\\site-packages (from beautifulsoup4->bs4->autoscraper) (2.2.1)\n",
      "Building wheels for collected packages: bs4\n",
      "  Building wheel for bs4 (setup.py): started\n",
      "  Building wheel for bs4 (setup.py): finished with status 'done'\n",
      "  Created wheel for bs4: filename=bs4-0.0.1-py3-none-any.whl size=1271 sha256=f13ab287cc2f65b89745196227a7e4672ab4079a3c84b45b957858cb137f3899\n",
      "  Stored in directory: c:\\users\\sai\\appdata\\local\\pip\\cache\\wheels\\73\\2b\\cb\\099980278a0c9a3e57ff1a89875ec07bfa0b6fcbebb9a8cad3\n",
      "Successfully built bs4\n",
      "Installing collected packages: bs4, autoscraper\n",
      "Successfully installed autoscraper-1.1.12 bs4-0.0.1\n"
     ]
    }
   ],
   "source": [
    "!pip install autoscraper"
   ]
  },
  {
   "cell_type": "code",
   "execution_count": 3,
   "id": "5736d6a5",
   "metadata": {},
   "outputs": [],
   "source": [
    "from autoscraper import AutoScraper"
   ]
  },
  {
   "cell_type": "code",
   "execution_count": 4,
   "id": "376e97bb",
   "metadata": {},
   "outputs": [],
   "source": [
    "url = \"https://www.amazon.in/s?k=books\"\n",
    "wanted_list=[\"₹83.13\",\"Be Your Own Sunshine\",\"1,332\",\"(52% off)\"]"
   ]
  },
  {
   "cell_type": "code",
   "execution_count": 5,
   "id": "e649c37c",
   "metadata": {},
   "outputs": [
    {
     "name": "stdout",
     "output_type": "stream",
     "text": [
      "['₹150', '₹250', '₹105', '₹199', '₹259', '₹399', '₹100', '₹374', '₹499', '₹83.13', '₹175', '₹99', '₹139', '₹237', '₹360', '₹163', '₹89', '₹140', '₹277', '₹599', '₹750', \"Life's Amazing Secrets: How to Find Balance and Purpose in Your Life by Gaur Gopal Das: Inspirational Book to find happiness & purpose in life, Self-help Book, Penguin\", \"La Ville couronnée d'épines\", 'The Power of Your Subconscious Mind', 'The Psychology of Money', 'National Science Olympiad (NSO) Work Book for Class 8 - Quick Recap, MCQs, Previous Years Solved Paper and Achievers Section - Olympiad Books For 2022-2023 Exam', 'Rich Dad Poor Dad: What the Rich Teach Their Kids About Money That the Poor and Middle Class Do Not!', 'Be Your Own Sunshine', 'The Richest Man in Babylon', 'Mandala Art: Colouring Books for Adults with Tear Out Sheets (Adult Colouring Book)', 'Ghosts of The Silent Hills: Stories based on true hauntings', 'Picture Books Collection for Early Learning (Set of 12)', 'My First Mythology Tale (Illustrated) (Set of 5 Books) - Mahabharata, Krishna, Hanuman, Ganesha, Ramayana - Story Book for Kids', 'My First Book of Pencil Control : Practice Pattern Writing (Full Color Pages): Patterns Practice book for kids (Pattern Writing)', 'You Can', '101 Tales The Great Panchatantra Collection - Collection Of Witty Moral Stories For Kids For Personality Development', 'My First Library: Boxset of 10 Board Books for Kids', \"Life's Amazing Secrets: How to Find Balance and Purpose in Your Life by Gaur Gopal Das: Inspirational Book to find happine...\", 'National Science Olympiad (NSO) Work Book for Class 8 - Quick Recap, MCQs, Previous Years Solved Paper and Achievers Secti...', 'My First Mythology Tale (Illustrated) (Set of 5 Books) - Mahabharata, Krishna, Hanuman, Ganesha, Ramayana - Story Book for...', 'My First Book of Pencil Control : Practice Pattern Writing (Full Color Pages): Patterns Practice book for kids (Pattern Wr...', '(40% off)', 'Ages: 12 years and up', '(47% off)', '(35% off)', '(25% off)', 'Ages: 5 years and up', '(52% off)', '(34% off)', '(44% off)', '(20% off)', 'Ages: 3 years and up', 'Ages: 4 - 7 years', '(36% off)', '(54% off)', 'Ages: 1 - 5 years']\n"
     ]
    }
   ],
   "source": [
    "scraper = AutoScraper()\n",
    "result=scraper.build(url,wanted_list)\n",
    "print(result)"
   ]
  },
  {
   "cell_type": "code",
   "execution_count": 6,
   "id": "0d8e2760",
   "metadata": {
    "scrolled": false
   },
   "outputs": [
    {
     "data": {
      "text/plain": [
       "{'rule_b29r': ['₹150',\n",
       "  '₹250',\n",
       "  '₹105',\n",
       "  '₹199',\n",
       "  '₹259',\n",
       "  '₹399',\n",
       "  '₹100',\n",
       "  '₹374',\n",
       "  '₹499',\n",
       "  '₹83.13',\n",
       "  '₹175',\n",
       "  '₹99',\n",
       "  '₹150',\n",
       "  '₹139',\n",
       "  '₹250',\n",
       "  '₹199',\n",
       "  '₹250',\n",
       "  '₹237',\n",
       "  '₹360',\n",
       "  '₹163',\n",
       "  '₹250',\n",
       "  '₹89',\n",
       "  '₹140',\n",
       "  '₹99',\n",
       "  '₹150',\n",
       "  '₹277',\n",
       "  '₹599',\n",
       "  '₹399',\n",
       "  '₹750'],\n",
       " 'rule_kcb3': ['₹150',\n",
       "  '₹250',\n",
       "  '₹105',\n",
       "  '₹199',\n",
       "  '₹259',\n",
       "  '₹399',\n",
       "  '₹100',\n",
       "  '₹374',\n",
       "  '₹499',\n",
       "  '₹83.13',\n",
       "  '₹175',\n",
       "  '₹99',\n",
       "  '₹150',\n",
       "  '₹139',\n",
       "  '₹250',\n",
       "  '₹199',\n",
       "  '₹250',\n",
       "  '₹237',\n",
       "  '₹360',\n",
       "  '₹163',\n",
       "  '₹250',\n",
       "  '₹89',\n",
       "  '₹140',\n",
       "  '₹99',\n",
       "  '₹150',\n",
       "  '₹277',\n",
       "  '₹599',\n",
       "  '₹399',\n",
       "  '₹750'],\n",
       " 'rule_hb61': [\"Life's Amazing Secrets: How to Find Balance and Purpose in Your Life by Gaur Gopal Das: Inspirational Book to find happiness & purpose in life, Self-help Book, Penguin\",\n",
       "  \"La Ville couronnée d'épines\",\n",
       "  'The Power of Your Subconscious Mind',\n",
       "  'The Psychology of Money',\n",
       "  'National Science Olympiad (NSO) Work Book for Class 8 - Quick Recap, MCQs, Previous Years Solved Paper and Achievers Section - Olympiad Books For 2022-2023 Exam',\n",
       "  'Rich Dad Poor Dad: What the Rich Teach Their Kids About Money That the Poor and Middle Class Do Not!',\n",
       "  'Be Your Own Sunshine',\n",
       "  'The Richest Man in Babylon',\n",
       "  'Mandala Art: Colouring Books for Adults with Tear Out Sheets (Adult Colouring Book)',\n",
       "  'Ghosts of The Silent Hills: Stories based on true hauntings',\n",
       "  'Picture Books Collection for Early Learning (Set of 12)',\n",
       "  'My First Mythology Tale (Illustrated) (Set of 5 Books) - Mahabharata, Krishna, Hanuman, Ganesha, Ramayana - Story Book for Kids',\n",
       "  'My First Book of Pencil Control : Practice Pattern Writing (Full Color Pages): Patterns Practice book for kids (Pattern Writing)',\n",
       "  'You Can',\n",
       "  '101 Tales The Great Panchatantra Collection - Collection Of Witty Moral Stories For Kids For Personality Development',\n",
       "  'My First Library: Boxset of 10 Board Books for Kids'],\n",
       " 'rule_90n2': [\"Life's Amazing Secrets: How to Find Balance and Purpose in Your Life by Gaur Gopal Das: Inspirational Book to find happine...\",\n",
       "  \"La Ville couronnée d'épines\",\n",
       "  'The Power of Your Subconscious Mind',\n",
       "  'The Psychology of Money',\n",
       "  'National Science Olympiad (NSO) Work Book for Class 8 - Quick Recap, MCQs, Previous Years Solved Paper and Achievers Secti...',\n",
       "  'Rich Dad Poor Dad: What the Rich Teach Their Kids About Money That the Poor and Middle Class Do Not!',\n",
       "  'Be Your Own Sunshine',\n",
       "  'The Richest Man in Babylon',\n",
       "  'Mandala Art: Colouring Books for Adults with Tear Out Sheets (Adult Colouring Book)',\n",
       "  'Ghosts of The Silent Hills: Stories based on true hauntings',\n",
       "  'Picture Books Collection for Early Learning (Set of 12)',\n",
       "  'My First Mythology Tale (Illustrated) (Set of 5 Books) - Mahabharata, Krishna, Hanuman, Ganesha, Ramayana - Story Book for...',\n",
       "  'My First Book of Pencil Control : Practice Pattern Writing (Full Color Pages): Patterns Practice book for kids (Pattern Wr...',\n",
       "  'You Can',\n",
       "  '101 Tales The Great Panchatantra Collection - Collection Of Witty Moral Stories For Kids For Personality Development',\n",
       "  'My First Library: Boxset of 10 Board Books for Kids'],\n",
       " 'rule_k2y4': ['(40% off)',\n",
       "  'Ages: 12 years and up',\n",
       "  '(47% off)',\n",
       "  '(35% off)',\n",
       "  '(25% off)',\n",
       "  'Ages: 5 years and up',\n",
       "  '(52% off)',\n",
       "  '(34% off)',\n",
       "  '(44% off)',\n",
       "  '(20% off)',\n",
       "  '(34% off)',\n",
       "  'Ages: 3 years and up',\n",
       "  '(35% off)',\n",
       "  'Ages: 4 - 7 years',\n",
       "  '(36% off)',\n",
       "  '(34% off)',\n",
       "  '(54% off)',\n",
       "  '(47% off)',\n",
       "  'Ages: 1 - 5 years']}"
      ]
     },
     "execution_count": 6,
     "metadata": {},
     "output_type": "execute_result"
    }
   ],
   "source": [
    "scraper.get_result_similar(url, grouped=True)"
   ]
  },
  {
   "cell_type": "code",
   "execution_count": 42,
   "id": "17ae9db3",
   "metadata": {},
   "outputs": [],
   "source": [
    "scraper.set_rule_aliases({'rule_buux':'Title', 'rule_ipeh':'Price'})\n",
    "scraper.keep_rules(['rule_buux','rule_ipeh'])\n",
    "scraper.save('amazon-search')"
   ]
  },
  {
   "cell_type": "code",
   "execution_count": 43,
   "id": "ef52d695",
   "metadata": {},
   "outputs": [],
   "source": [
    "results=scraper.get_result_similar(url, group_by_alias=True)#grp_by_al allow all grouping technique for this url"
   ]
  },
  {
   "cell_type": "code",
   "execution_count": 45,
   "id": "2f5610cf",
   "metadata": {},
   "outputs": [
    {
     "data": {
      "text/plain": [
       "['₹105',\n",
       " '₹199',\n",
       " '₹99',\n",
       " '₹150',\n",
       " '₹150',\n",
       " '₹250',\n",
       " '₹259',\n",
       " '₹399',\n",
       " '₹302',\n",
       " '₹499',\n",
       " '₹83.13',\n",
       " '₹175',\n",
       " '₹237',\n",
       " '₹299',\n",
       " '₹99',\n",
       " '₹150',\n",
       " '₹139',\n",
       " '₹250',\n",
       " '₹89',\n",
       " '₹140',\n",
       " '₹149.50',\n",
       " '₹230',\n",
       " '₹199',\n",
       " '₹250',\n",
       " '₹99',\n",
       " '₹150',\n",
       " '₹399',\n",
       " '₹750',\n",
       " '₹237',\n",
       " '₹360']"
      ]
     },
     "execution_count": 45,
     "metadata": {},
     "output_type": "execute_result"
    }
   ],
   "source": [
    "results['Price']"
   ]
  },
  {
   "cell_type": "code",
   "execution_count": 46,
   "id": "11211b67",
   "metadata": {},
   "outputs": [
    {
     "data": {
      "text/plain": [
       "{'rule_ipeh': ['₹259'], 'rule_buux': ['The Psychology of Money']}"
      ]
     },
     "execution_count": 46,
     "metadata": {},
     "output_type": "execute_result"
    }
   ],
   "source": [
    "scraper.get_result_exact(url, grouped=True)"
   ]
  },
  {
   "cell_type": "code",
   "execution_count": null,
   "id": "53e32990",
   "metadata": {},
   "outputs": [],
   "source": []
  }
 ],
 "metadata": {
  "kernelspec": {
   "display_name": "Python 3 (ipykernel)",
   "language": "python",
   "name": "python3"
  },
  "language_info": {
   "codemirror_mode": {
    "name": "ipython",
    "version": 3
   },
   "file_extension": ".py",
   "mimetype": "text/x-python",
   "name": "python",
   "nbconvert_exporter": "python",
   "pygments_lexer": "ipython3",
   "version": "3.9.7"
  }
 },
 "nbformat": 4,
 "nbformat_minor": 5
}
